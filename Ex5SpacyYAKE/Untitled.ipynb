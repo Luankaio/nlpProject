{
 "cells": [
  {
   "cell_type": "code",
   "execution_count": 8,
   "id": "88b5da1a-8450-4a46-980c-5ede4e464cf0",
   "metadata": {},
   "outputs": [],
   "source": [
    "import spacy"
   ]
  },
  {
   "cell_type": "code",
   "execution_count": 17,
   "id": "010fd04b-315e-4d1e-8096-fe6f144957dc",
   "metadata": {
    "scrolled": true
   },
   "outputs": [
    {
     "name": "stdout",
     "output_type": "stream",
     "text": [
      "Defaulting to user installation because normal site-packages is not writeable\n",
      "Collecting pt-core-news-lg==3.7.0\n",
      "  Downloading https://github.com/explosion/spacy-models/releases/download/pt_core_news_lg-3.7.0/pt_core_news_lg-3.7.0-py3-none-any.whl (568.2 MB)\n",
      "\u001b[2K     \u001b[38;2;114;156;31m━━━━━━━━━━━━━━━━━━━━━━━━━━━━━━━━━━━━━━━\u001b[0m \u001b[32m568.2/568.2 MB\u001b[0m \u001b[31m6.0 MB/s\u001b[0m eta \u001b[36m0:00:00\u001b[0mm eta \u001b[36m0:00:01\u001b[0m[36m0:00:01\u001b[0m\n",
      "\u001b[?25hRequirement already satisfied: spacy<3.8.0,>=3.7.0 in /home/luankaio/.local/lib/python3.10/site-packages (from pt-core-news-lg==3.7.0) (3.7.5)\n",
      "Requirement already satisfied: catalogue<2.1.0,>=2.0.6 in /home/luankaio/.local/lib/python3.10/site-packages (from spacy<3.8.0,>=3.7.0->pt-core-news-lg==3.7.0) (2.0.10)\n",
      "Requirement already satisfied: spacy-loggers<2.0.0,>=1.0.0 in /home/luankaio/.local/lib/python3.10/site-packages (from spacy<3.8.0,>=3.7.0->pt-core-news-lg==3.7.0) (1.0.5)\n",
      "Requirement already satisfied: wasabi<1.2.0,>=0.9.1 in /home/luankaio/.local/lib/python3.10/site-packages (from spacy<3.8.0,>=3.7.0->pt-core-news-lg==3.7.0) (1.1.3)\n",
      "Requirement already satisfied: langcodes<4.0.0,>=3.2.0 in /home/luankaio/.local/lib/python3.10/site-packages (from spacy<3.8.0,>=3.7.0->pt-core-news-lg==3.7.0) (3.4.0)\n",
      "Requirement already satisfied: setuptools in /usr/lib/python3/dist-packages (from spacy<3.8.0,>=3.7.0->pt-core-news-lg==3.7.0) (59.6.0)\n",
      "Requirement already satisfied: jinja2 in /home/luankaio/.local/lib/python3.10/site-packages (from spacy<3.8.0,>=3.7.0->pt-core-news-lg==3.7.0) (3.1.4)\n",
      "Requirement already satisfied: srsly<3.0.0,>=2.4.3 in /home/luankaio/.local/lib/python3.10/site-packages (from spacy<3.8.0,>=3.7.0->pt-core-news-lg==3.7.0) (2.4.8)\n",
      "Requirement already satisfied: weasel<0.5.0,>=0.1.0 in /home/luankaio/.local/lib/python3.10/site-packages (from spacy<3.8.0,>=3.7.0->pt-core-news-lg==3.7.0) (0.4.1)\n",
      "Requirement already satisfied: murmurhash<1.1.0,>=0.28.0 in /home/luankaio/.local/lib/python3.10/site-packages (from spacy<3.8.0,>=3.7.0->pt-core-news-lg==3.7.0) (1.0.10)\n",
      "Requirement already satisfied: preshed<3.1.0,>=3.0.2 in /home/luankaio/.local/lib/python3.10/site-packages (from spacy<3.8.0,>=3.7.0->pt-core-news-lg==3.7.0) (3.0.9)\n",
      "Requirement already satisfied: tqdm<5.0.0,>=4.38.0 in /home/luankaio/.local/lib/python3.10/site-packages (from spacy<3.8.0,>=3.7.0->pt-core-news-lg==3.7.0) (4.66.4)\n",
      "Requirement already satisfied: typer<1.0.0,>=0.3.0 in /home/luankaio/.local/lib/python3.10/site-packages (from spacy<3.8.0,>=3.7.0->pt-core-news-lg==3.7.0) (0.12.3)\n",
      "Requirement already satisfied: requests<3.0.0,>=2.13.0 in /home/luankaio/.local/lib/python3.10/site-packages (from spacy<3.8.0,>=3.7.0->pt-core-news-lg==3.7.0) (2.32.3)\n",
      "Requirement already satisfied: numpy>=1.19.0 in /home/luankaio/.local/lib/python3.10/site-packages (from spacy<3.8.0,>=3.7.0->pt-core-news-lg==3.7.0) (1.26.4)\n",
      "Requirement already satisfied: cymem<2.1.0,>=2.0.2 in /home/luankaio/.local/lib/python3.10/site-packages (from spacy<3.8.0,>=3.7.0->pt-core-news-lg==3.7.0) (2.0.8)\n",
      "Requirement already satisfied: packaging>=20.0 in /home/luankaio/.local/lib/python3.10/site-packages (from spacy<3.8.0,>=3.7.0->pt-core-news-lg==3.7.0) (24.0)\n",
      "Requirement already satisfied: spacy-legacy<3.1.0,>=3.0.11 in /home/luankaio/.local/lib/python3.10/site-packages (from spacy<3.8.0,>=3.7.0->pt-core-news-lg==3.7.0) (3.0.12)\n",
      "Requirement already satisfied: thinc<8.3.0,>=8.2.2 in /home/luankaio/.local/lib/python3.10/site-packages (from spacy<3.8.0,>=3.7.0->pt-core-news-lg==3.7.0) (8.2.4)\n",
      "Requirement already satisfied: pydantic!=1.8,!=1.8.1,<3.0.0,>=1.7.4 in /home/luankaio/.local/lib/python3.10/site-packages (from spacy<3.8.0,>=3.7.0->pt-core-news-lg==3.7.0) (2.7.3)\n",
      "Requirement already satisfied: language-data>=1.2 in /home/luankaio/.local/lib/python3.10/site-packages (from langcodes<4.0.0,>=3.2.0->spacy<3.8.0,>=3.7.0->pt-core-news-lg==3.7.0) (1.2.0)\n",
      "Requirement already satisfied: pydantic-core==2.18.4 in /home/luankaio/.local/lib/python3.10/site-packages (from pydantic!=1.8,!=1.8.1,<3.0.0,>=1.7.4->spacy<3.8.0,>=3.7.0->pt-core-news-lg==3.7.0) (2.18.4)\n",
      "Requirement already satisfied: annotated-types>=0.4.0 in /home/luankaio/.local/lib/python3.10/site-packages (from pydantic!=1.8,!=1.8.1,<3.0.0,>=1.7.4->spacy<3.8.0,>=3.7.0->pt-core-news-lg==3.7.0) (0.7.0)\n",
      "Requirement already satisfied: typing-extensions>=4.6.1 in /home/luankaio/.local/lib/python3.10/site-packages (from pydantic!=1.8,!=1.8.1,<3.0.0,>=1.7.4->spacy<3.8.0,>=3.7.0->pt-core-news-lg==3.7.0) (4.12.1)\n",
      "Requirement already satisfied: certifi>=2017.4.17 in /usr/lib/python3/dist-packages (from requests<3.0.0,>=2.13.0->spacy<3.8.0,>=3.7.0->pt-core-news-lg==3.7.0) (2020.6.20)\n",
      "Requirement already satisfied: charset-normalizer<4,>=2 in /home/luankaio/.local/lib/python3.10/site-packages (from requests<3.0.0,>=2.13.0->spacy<3.8.0,>=3.7.0->pt-core-news-lg==3.7.0) (3.3.2)\n",
      "Requirement already satisfied: urllib3<3,>=1.21.1 in /usr/lib/python3/dist-packages (from requests<3.0.0,>=2.13.0->spacy<3.8.0,>=3.7.0->pt-core-news-lg==3.7.0) (1.26.5)\n",
      "Requirement already satisfied: idna<4,>=2.5 in /usr/lib/python3/dist-packages (from requests<3.0.0,>=2.13.0->spacy<3.8.0,>=3.7.0->pt-core-news-lg==3.7.0) (3.3)\n",
      "Requirement already satisfied: blis<0.8.0,>=0.7.8 in /home/luankaio/.local/lib/python3.10/site-packages (from thinc<8.3.0,>=8.2.2->spacy<3.8.0,>=3.7.0->pt-core-news-lg==3.7.0) (0.7.11)\n",
      "Requirement already satisfied: confection<1.0.0,>=0.0.1 in /home/luankaio/.local/lib/python3.10/site-packages (from thinc<8.3.0,>=8.2.2->spacy<3.8.0,>=3.7.0->pt-core-news-lg==3.7.0) (0.1.5)\n",
      "Requirement already satisfied: click>=8.0.0 in /home/luankaio/.local/lib/python3.10/site-packages (from typer<1.0.0,>=0.3.0->spacy<3.8.0,>=3.7.0->pt-core-news-lg==3.7.0) (8.1.7)\n",
      "Requirement already satisfied: shellingham>=1.3.0 in /home/luankaio/.local/lib/python3.10/site-packages (from typer<1.0.0,>=0.3.0->spacy<3.8.0,>=3.7.0->pt-core-news-lg==3.7.0) (1.5.4)\n",
      "Requirement already satisfied: rich>=10.11.0 in /home/luankaio/.local/lib/python3.10/site-packages (from typer<1.0.0,>=0.3.0->spacy<3.8.0,>=3.7.0->pt-core-news-lg==3.7.0) (13.7.1)\n",
      "Requirement already satisfied: smart-open<8.0.0,>=5.2.1 in /home/luankaio/.local/lib/python3.10/site-packages (from weasel<0.5.0,>=0.1.0->spacy<3.8.0,>=3.7.0->pt-core-news-lg==3.7.0) (7.0.4)\n",
      "Requirement already satisfied: cloudpathlib<1.0.0,>=0.7.0 in /home/luankaio/.local/lib/python3.10/site-packages (from weasel<0.5.0,>=0.1.0->spacy<3.8.0,>=3.7.0->pt-core-news-lg==3.7.0) (0.18.1)\n",
      "Requirement already satisfied: MarkupSafe>=2.0 in /home/luankaio/.local/lib/python3.10/site-packages (from jinja2->spacy<3.8.0,>=3.7.0->pt-core-news-lg==3.7.0) (2.1.5)\n",
      "Requirement already satisfied: marisa-trie>=0.7.7 in /home/luankaio/.local/lib/python3.10/site-packages (from language-data>=1.2->langcodes<4.0.0,>=3.2.0->spacy<3.8.0,>=3.7.0->pt-core-news-lg==3.7.0) (1.2.0)\n",
      "Requirement already satisfied: pygments<3.0.0,>=2.13.0 in /home/luankaio/.local/lib/python3.10/site-packages (from rich>=10.11.0->typer<1.0.0,>=0.3.0->spacy<3.8.0,>=3.7.0->pt-core-news-lg==3.7.0) (2.18.0)\n",
      "Requirement already satisfied: markdown-it-py>=2.2.0 in /home/luankaio/.local/lib/python3.10/site-packages (from rich>=10.11.0->typer<1.0.0,>=0.3.0->spacy<3.8.0,>=3.7.0->pt-core-news-lg==3.7.0) (3.0.0)\n",
      "Requirement already satisfied: wrapt in /home/luankaio/.local/lib/python3.10/site-packages (from smart-open<8.0.0,>=5.2.1->weasel<0.5.0,>=0.1.0->spacy<3.8.0,>=3.7.0->pt-core-news-lg==3.7.0) (1.16.0)\n",
      "Requirement already satisfied: mdurl~=0.1 in /home/luankaio/.local/lib/python3.10/site-packages (from markdown-it-py>=2.2.0->rich>=10.11.0->typer<1.0.0,>=0.3.0->spacy<3.8.0,>=3.7.0->pt-core-news-lg==3.7.0) (0.1.2)\n",
      "Installing collected packages: pt-core-news-lg\n",
      "Successfully installed pt-core-news-lg-3.7.0\n",
      "\u001b[38;5;2m✔ Download and installation successful\u001b[0m\n",
      "You can now load the package via spacy.load('pt_core_news_lg')\n"
     ]
    }
   ],
   "source": [
    "!python3 -m spacy download pt_core_news_lg"
   ]
  },
  {
   "cell_type": "code",
   "execution_count": 18,
   "id": "a074cc06-5529-4784-a449-98180c74208b",
   "metadata": {},
   "outputs": [],
   "source": [
    "nlp = spacy.load(\"pt_core_news_lg\")"
   ]
  },
  {
   "cell_type": "code",
   "execution_count": 19,
   "id": "d3713b32-92a0-461a-82db-210133a6a96a",
   "metadata": {},
   "outputs": [
    {
     "name": "stdout",
     "output_type": "stream",
     "text": [
      "['tok2vec', 'morphologizer', 'parser', 'lemmatizer', 'attribute_ruler', 'ner']\n"
     ]
    }
   ],
   "source": [
    "print(nlp.pipe_names)"
   ]
  },
  {
   "cell_type": "code",
   "execution_count": 22,
   "id": "2a6a2ec7-fd04-49b6-8db3-5b2bf838e578",
   "metadata": {},
   "outputs": [],
   "source": [
    "document = nlp(\"O pigmento responsável pela coloração típica de nossos dentes, após ingerir o açaí, é chamado antocianina, sendo ele responsável pelo combate de radicais livres, prevenindo o envelhecimento precoce. O consumo contínuo da polpa do açaí também reduz as chances de doenças do coração, artrite e obesidade. Quanto a este último fator, vale lembrar que acontece em casos de ingestão moderada, já que é um alimento calórico, rico em gorduras (felizmente, a maioria é do tipo poli-insaturada\")"
   ]
  },
  {
   "cell_type": "code",
   "execution_count": 23,
   "id": "38e51ecb-d357-49e9-8a79-6b4f54056a28",
   "metadata": {},
   "outputs": [
    {
     "data": {
      "text/plain": [
       "409"
      ]
     },
     "execution_count": 23,
     "metadata": {},
     "output_type": "execute_result"
    }
   ],
   "source": []
  },
  {
   "cell_type": "code",
   "execution_count": null,
   "id": "a5025143-7076-42c1-bb50-eed8b545ce2b",
   "metadata": {},
   "outputs": [],
   "source": []
  },
  {
   "cell_type": "code",
   "execution_count": null,
   "id": "445bb546-6825-4866-ae75-bebbc06df685",
   "metadata": {},
   "outputs": [],
   "source": []
  }
 ],
 "metadata": {
  "kernelspec": {
   "display_name": "Python 3 (ipykernel)",
   "language": "python",
   "name": "python3"
  },
  "language_info": {
   "codemirror_mode": {
    "name": "ipython",
    "version": 3
   },
   "file_extension": ".py",
   "mimetype": "text/x-python",
   "name": "python",
   "nbconvert_exporter": "python",
   "pygments_lexer": "ipython3",
   "version": "3.10.12"
  }
 },
 "nbformat": 4,
 "nbformat_minor": 5
}
