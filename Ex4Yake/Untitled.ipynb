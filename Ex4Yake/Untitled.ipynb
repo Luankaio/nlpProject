{
 "cells": [
  {
   "cell_type": "code",
   "execution_count": 8,
   "id": "71277efa-965e-4a62-adee-161408703bf9",
   "metadata": {},
   "outputs": [],
   "source": [
    "import yake"
   ]
  },
  {
   "cell_type": "code",
   "execution_count": 9,
   "id": "40544b84-fc89-46de-a1d6-7f8acb7890a9",
   "metadata": {},
   "outputs": [],
   "source": [
    "text = '''Kalam was elected as the 11th president of India in 2002 with the support of both the ruling Bharatiya Janata Party and \n",
    "the then-opposition Indian National Congress. Widely referred to as the \"People's President\", he returned to his civilian life of education, \n",
    "writing and public service after a single term. He was a recipient of several prestigious awards, including the Bharat Ratna, \n",
    "India's highest civilian honor.'''"
   ]
  },
  {
   "cell_type": "code",
   "execution_count": 20,
   "id": "7372de03-7646-474e-b743-24b5f0b7a0c8",
   "metadata": {},
   "outputs": [],
   "source": [
    "language = \"en\"\n",
    "max_ngram_size = 3\n",
    "deduplication_thresold = 0.9\n",
    "deduplication_algo = 'seqm'\n",
    "windowSize = 1\n",
    "numOfKeywords = 5"
   ]
  },
  {
   "cell_type": "code",
   "execution_count": 21,
   "id": "32f4a56b-4f0c-4c4e-9987-430cefb7edde",
   "metadata": {},
   "outputs": [],
   "source": [
    "custom_kw_extractor = yake.KeywordExtractor(lan=language, n=max_ngram_size, dedupLim=deduplication_thresold, dedupFunc=deduplication_algo, windowsSize=windowSize, top=numOfKeywords, features=None)\n",
    "keywords = custom_kw_extractor.extract_keywords(text)"
   ]
  },
  {
   "cell_type": "code",
   "execution_count": 22,
   "id": "b32aa44a-83aa-4fef-bae2-e6c29f752ad6",
   "metadata": {},
   "outputs": [
    {
     "name": "stdout",
     "output_type": "stream",
     "text": [
      "('Indian National Congress', 0.00023276785377447247)\n",
      "('Bharatiya Janata Party', 0.0002800111753325696)\n",
      "('ruling Bharatiya Janata', 0.0005879720550447616)\n",
      "('then-opposition Indian National', 0.0005879720550447616)\n",
      "('National Congress', 0.00354626259194225)\n"
     ]
    }
   ],
   "source": [
    "for kw in keywords:\n",
    "    print(kw)"
   ]
  },
  {
   "cell_type": "code",
   "execution_count": 19,
   "id": "d4efc2fa-0915-4892-95ca-26e54bcb9eb8",
   "metadata": {},
   "outputs": [
    {
     "ename": "AttributeError",
     "evalue": "'list' object has no attribute 'head'",
     "output_type": "error",
     "traceback": [
      "\u001b[0;31m---------------------------------------------------------------------------\u001b[0m",
      "\u001b[0;31mAttributeError\u001b[0m                            Traceback (most recent call last)",
      "Cell \u001b[0;32mIn[19], line 1\u001b[0m\n\u001b[0;32m----> 1\u001b[0m \u001b[43mkeywords\u001b[49m\u001b[38;5;241;43m.\u001b[39;49m\u001b[43mhead\u001b[49m()\n",
      "\u001b[0;31mAttributeError\u001b[0m: 'list' object has no attribute 'head'"
     ]
    }
   ],
   "source": []
  },
  {
   "cell_type": "code",
   "execution_count": null,
   "id": "65e96b3d-9b9c-48fd-837c-ee7933a076de",
   "metadata": {},
   "outputs": [],
   "source": []
  }
 ],
 "metadata": {
  "kernelspec": {
   "display_name": "Python 3 (ipykernel)",
   "language": "python",
   "name": "python3"
  },
  "language_info": {
   "codemirror_mode": {
    "name": "ipython",
    "version": 3
   },
   "file_extension": ".py",
   "mimetype": "text/x-python",
   "name": "python",
   "nbconvert_exporter": "python",
   "pygments_lexer": "ipython3",
   "version": "3.10.12"
  }
 },
 "nbformat": 4,
 "nbformat_minor": 5
}
